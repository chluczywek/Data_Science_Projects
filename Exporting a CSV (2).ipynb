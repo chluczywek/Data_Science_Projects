{
 "cells": [
  {
   "cell_type": "code",
   "execution_count": 1,
   "metadata": {},
   "outputs": [],
   "source": [
    "import bs4\n",
    "import pandas as pd\n",
    "\n",
    "from urllib.request import urlopen as uReq\n",
    "from bs4 import BeautifulSoup\n",
    "from urllib.request import Request\n",
    "from time import sleep\n",
    "from requests import get"
   ]
  },
  {
   "cell_type": "markdown",
   "metadata": {},
   "source": [
    "# First Part - Web Scraping\n",
    "I Web Scraped an extensive list of Campy Horror Movies from [All Horror.com](https://www.allhorror.com/subgenre/campy?order=release_date&order_dir=asc&sf_paged=). I got the Title, the Year, the genre, and the IMDB Rating."
   ]
  },
  {
   "cell_type": "code",
   "execution_count": 2,
   "metadata": {},
   "outputs": [],
   "source": [
    "titles = []\n",
    "imdb_ratings = []\n",
    "years = []\n",
    "genres = []\n",
    "\n",
    "\n",
    "for i in range(1,54):\n",
    "    url = 'https://www.allhorror.com/subgenre/campy?order=release_date&order_dir=asc&sf_paged='+ str(i)\n",
    "    page = get(url, headers={'User-Agent': 'Mozilla/5.0'})\n",
    "    \n",
    "    page_soup = BeautifulSoup(page.text, 'html.parser')\n",
    "\n",
    "    containers = page_soup.findAll('li', {\"class\": \"row\"})\n",
    "\n",
    "    \n",
    "    for container in containers:\n",
    "        \n",
    "        my_str = container.div.a.img['alt']\n",
    "        \n",
    "        # Full Movie Exception\n",
    "        full_movie = my_str.replace('Full Movie', '')\n",
    "        table = str.maketrans(dict.fromkeys(\"()\"))\n",
    "        title = full_movie.translate(table)\n",
    "        \n",
    "        # Scrape the title\n",
    "        the_title = title[:-5]\n",
    "        titles.append(the_title)\n",
    "        \n",
    "        # Scrape the year\n",
    "        word_list = title.split()\n",
    "        year = word_list[-1]\n",
    "        years.append(year)\n",
    "        \n",
    "        #Scrape the genre\n",
    "        free = container.findAll('li')\n",
    "        genre_text = free[0].text\n",
    "        sep = '|'\n",
    "        genre = genre_text.split(sep, 1)[0]\n",
    "        genres.append(genre)\n",
    "    \n",
    "        rating_container = container.findAll('li')\n",
    "               \n",
    "        # Scrape the IMDB rating\n",
    "        imdb_rating = rating_container[2].text\n",
    "        imdb_ratings.append(imdb_rating)\n",
    "    \n",
    "    sleep(10)"
   ]
  },
  {
   "cell_type": "markdown",
   "metadata": {},
   "source": [
    "From here I stored the recorded data in a Data Frame called Movie_Rating."
   ]
  },
  {
   "cell_type": "code",
   "execution_count": 32,
   "metadata": {
    "scrolled": true
   },
   "outputs": [
    {
     "name": "stdout",
     "output_type": "stream",
     "text": [
      "<class 'pandas.core.frame.DataFrame'>\n",
      "RangeIndex: 526 entries, 0 to 525\n",
      "Data columns (total 4 columns):\n",
      "title    526 non-null object\n",
      "year     526 non-null object\n",
      "imdb     526 non-null object\n",
      "genre    526 non-null object\n",
      "dtypes: object(4)\n",
      "memory usage: 16.5+ KB\n",
      "None\n"
     ]
    },
    {
     "data": {
      "text/html": [
       "<div>\n",
       "<style scoped>\n",
       "    .dataframe tbody tr th:only-of-type {\n",
       "        vertical-align: middle;\n",
       "    }\n",
       "\n",
       "    .dataframe tbody tr th {\n",
       "        vertical-align: top;\n",
       "    }\n",
       "\n",
       "    .dataframe thead th {\n",
       "        text-align: right;\n",
       "    }\n",
       "</style>\n",
       "<table border=\"1\" class=\"dataframe\">\n",
       "  <thead>\n",
       "    <tr style=\"text-align: right;\">\n",
       "      <th></th>\n",
       "      <th>title</th>\n",
       "      <th>year</th>\n",
       "      <th>imdb</th>\n",
       "      <th>genre</th>\n",
       "    </tr>\n",
       "  </thead>\n",
       "  <tbody>\n",
       "    <tr>\n",
       "      <th>0</th>\n",
       "      <td>Half Human: The Story of the Abominable Snowman</td>\n",
       "      <td>1958</td>\n",
       "      <td>2.9</td>\n",
       "      <td>Creatures, Thriller</td>\n",
       "    </tr>\n",
       "    <tr>\n",
       "      <th>1</th>\n",
       "      <td>Plan 9 from Outer Space</td>\n",
       "      <td>1959</td>\n",
       "      <td>4.0</td>\n",
       "      <td>Aliens, Classic, Classic Sci-Fi, Featured Clas...</td>\n",
       "    </tr>\n",
       "    <tr>\n",
       "      <th>2</th>\n",
       "      <td>The Phantom of the Operetta</td>\n",
       "      <td>1960</td>\n",
       "      <td>6.8</td>\n",
       "      <td>Comedy</td>\n",
       "    </tr>\n",
       "    <tr>\n",
       "      <th>3</th>\n",
       "      <td>Mr. Sardonicus</td>\n",
       "      <td>1961</td>\n",
       "      <td>6.7</td>\n",
       "      <td>Comedy, Mystery</td>\n",
       "    </tr>\n",
       "    <tr>\n",
       "      <th>4</th>\n",
       "      <td>House on Bare Mountain</td>\n",
       "      <td>1962</td>\n",
       "      <td>4.1</td>\n",
       "      <td>Comedy</td>\n",
       "    </tr>\n",
       "    <tr>\n",
       "      <th>5</th>\n",
       "      <td>House of the Frights</td>\n",
       "      <td>1963</td>\n",
       "      <td>5.0</td>\n",
       "      <td>Comedy</td>\n",
       "    </tr>\n",
       "    <tr>\n",
       "      <th>6</th>\n",
       "      <td>The Old Dark House</td>\n",
       "      <td>1963</td>\n",
       "      <td>5.4</td>\n",
       "      <td>Comedy</td>\n",
       "    </tr>\n",
       "    <tr>\n",
       "      <th>7</th>\n",
       "      <td>The Incredibly Strange Creatures Who Stopped L...</td>\n",
       "      <td>1964</td>\n",
       "      <td>2.2</td>\n",
       "      <td>Comedy, Zombies</td>\n",
       "    </tr>\n",
       "    <tr>\n",
       "      <th>8</th>\n",
       "      <td>The Flesh Eaters</td>\n",
       "      <td>1964</td>\n",
       "      <td>6.0</td>\n",
       "      <td>Creatures</td>\n",
       "    </tr>\n",
       "    <tr>\n",
       "      <th>9</th>\n",
       "      <td>The Wrestling Women vs. the Aztec Mummy</td>\n",
       "      <td>1964</td>\n",
       "      <td>3.9</td>\n",
       "      <td>Comedy</td>\n",
       "    </tr>\n",
       "    <tr>\n",
       "      <th>10</th>\n",
       "      <td>The Beach Girls and the Monster</td>\n",
       "      <td>1965</td>\n",
       "      <td>2.9</td>\n",
       "      <td>Comedy</td>\n",
       "    </tr>\n",
       "    <tr>\n",
       "      <th>11</th>\n",
       "      <td>The Monsters Crash the Pajama Party</td>\n",
       "      <td>1965</td>\n",
       "      <td>5.1</td>\n",
       "      <td>Comedy</td>\n",
       "    </tr>\n",
       "    <tr>\n",
       "      <th>12</th>\n",
       "      <td>Psycho a Go-Go</td>\n",
       "      <td>1965</td>\n",
       "      <td>2.9</td>\n",
       "      <td>Comedy, Mystery</td>\n",
       "    </tr>\n",
       "    <tr>\n",
       "      <th>13</th>\n",
       "      <td>Monster a-Go Go</td>\n",
       "      <td>1965</td>\n",
       "      <td>2.1</td>\n",
       "      <td>Creatures</td>\n",
       "    </tr>\n",
       "    <tr>\n",
       "      <th>14</th>\n",
       "      <td>Frankenstein Meets the Spacemonster</td>\n",
       "      <td>1965</td>\n",
       "      <td>3.5</td>\n",
       "      <td>Supernatural</td>\n",
       "    </tr>\n",
       "    <tr>\n",
       "      <th>15</th>\n",
       "      <td>Zontar: The Thing from Venus</td>\n",
       "      <td>1966</td>\n",
       "      <td>3.0</td>\n",
       "      <td>Aliens</td>\n",
       "    </tr>\n",
       "    <tr>\n",
       "      <th>16</th>\n",
       "      <td>The Plague of the Zombies</td>\n",
       "      <td>1966</td>\n",
       "      <td>6.7</td>\n",
       "      <td>Zombies</td>\n",
       "    </tr>\n",
       "    <tr>\n",
       "      <th>17</th>\n",
       "      <td>Munster, Go Home!</td>\n",
       "      <td>1966</td>\n",
       "      <td>6.5</td>\n",
       "      <td>Comedy, Creatures, Vampires</td>\n",
       "    </tr>\n",
       "    <tr>\n",
       "      <th>18</th>\n",
       "      <td>Let's Kill Uncle</td>\n",
       "      <td>1966</td>\n",
       "      <td>6.0</td>\n",
       "      <td>Mystery</td>\n",
       "    </tr>\n",
       "    <tr>\n",
       "      <th>19</th>\n",
       "      <td>The Fearless Vampire Killers</td>\n",
       "      <td>1967</td>\n",
       "      <td>7.2</td>\n",
       "      <td>Vampires</td>\n",
       "    </tr>\n",
       "  </tbody>\n",
       "</table>\n",
       "</div>"
      ],
      "text/plain": [
       "                                                title  year   imdb  \\\n",
       "0     Half Human: The Story of the Abominable Snowman  1958    2.9   \n",
       "1                             Plan 9 from Outer Space  1959    4.0   \n",
       "2                         The Phantom of the Operetta  1960    6.8   \n",
       "3                                      Mr. Sardonicus  1961    6.7   \n",
       "4                             House on Bare Mountain   1962    4.1   \n",
       "5                                House of the Frights  1963    5.0   \n",
       "6                                  The Old Dark House  1963    5.4   \n",
       "7   The Incredibly Strange Creatures Who Stopped L...  1964    2.2   \n",
       "8                                    The Flesh Eaters  1964    6.0   \n",
       "9             The Wrestling Women vs. the Aztec Mummy  1964    3.9   \n",
       "10                    The Beach Girls and the Monster  1965    2.9   \n",
       "11                The Monsters Crash the Pajama Party  1965    5.1   \n",
       "12                                     Psycho a Go-Go  1965    2.9   \n",
       "13                                    Monster a-Go Go  1965    2.1   \n",
       "14                Frankenstein Meets the Spacemonster  1965    3.5   \n",
       "15                       Zontar: The Thing from Venus  1966    3.0   \n",
       "16                          The Plague of the Zombies  1966    6.7   \n",
       "17                                  Munster, Go Home!  1966    6.5   \n",
       "18                                   Let's Kill Uncle  1966    6.0   \n",
       "19                       The Fearless Vampire Killers  1967    7.2   \n",
       "\n",
       "                                                genre  \n",
       "0                                Creatures, Thriller   \n",
       "1   Aliens, Classic, Classic Sci-Fi, Featured Clas...  \n",
       "2                                             Comedy   \n",
       "3                                    Comedy, Mystery   \n",
       "4                                             Comedy   \n",
       "5                                             Comedy   \n",
       "6                                             Comedy   \n",
       "7                                    Comedy, Zombies   \n",
       "8                                          Creatures   \n",
       "9                                             Comedy   \n",
       "10                                            Comedy   \n",
       "11                                            Comedy   \n",
       "12                                   Comedy, Mystery   \n",
       "13                                         Creatures   \n",
       "14                                      Supernatural   \n",
       "15                                            Aliens   \n",
       "16                                           Zombies   \n",
       "17                       Comedy, Creatures, Vampires   \n",
       "18                                           Mystery   \n",
       "19                                          Vampires   "
      ]
     },
     "execution_count": 32,
     "metadata": {},
     "output_type": "execute_result"
    }
   ],
   "source": [
    "movie_ratings = pd.DataFrame({'title': titles,\n",
    "'year': years, \n",
    "'imdb': imdb_ratings,\n",
    "'genre': genres                              \n",
    "})\n",
    "print(movie_ratings.info())\n",
    "movie_ratings.head(20)"
   ]
  },
  {
   "cell_type": "markdown",
   "metadata": {},
   "source": [
    "## Clean Data\n",
    "There were several issue with the data received. I had to make sure I recorded only the Year."
   ]
  },
  {
   "cell_type": "code",
   "execution_count": 53,
   "metadata": {},
   "outputs": [
    {
     "data": {
      "text/plain": [
       "array(['1958', '1959', '1960', '1961', '1962', '1963', '1964', '1965',\n",
       "       '1966', '1967', '1968', '1969', '1970', '1971', '1972', '1973',\n",
       "       '1974', '1975', '1976', '1977', '1978', '1979', '1980', '1981',\n",
       "       '1982', '1983', '1984', '1985', '1986', 'Short', '1987', '1988',\n",
       "       '1989', '1990', '1990h', '1991', '1992', '1993', '1994', '1995',\n",
       "       '1996', '1997', '1998', '1999', '2000', '2001', '2002', '2003',\n",
       "       '2005', '2006', '2007', '2008', '2009', '2010', '2011', '2012',\n",
       "       '2013', '2014', '2015', '2016', '2017', '2018', '2019'],\n",
       "      dtype=object)"
      ]
     },
     "execution_count": 53,
     "metadata": {},
     "output_type": "execute_result"
    }
   ],
   "source": [
    "movie_ratings['year'].unique()"
   ]
  },
  {
   "cell_type": "code",
   "execution_count": 54,
   "metadata": {
    "scrolled": false
   },
   "outputs": [
    {
     "data": {
      "text/html": [
       "<div>\n",
       "<style scoped>\n",
       "    .dataframe tbody tr th:only-of-type {\n",
       "        vertical-align: middle;\n",
       "    }\n",
       "\n",
       "    .dataframe tbody tr th {\n",
       "        vertical-align: top;\n",
       "    }\n",
       "\n",
       "    .dataframe thead th {\n",
       "        text-align: right;\n",
       "    }\n",
       "</style>\n",
       "<table border=\"1\" class=\"dataframe\">\n",
       "  <thead>\n",
       "    <tr style=\"text-align: right;\">\n",
       "      <th></th>\n",
       "      <th>title</th>\n",
       "      <th>year</th>\n",
       "      <th>imdb</th>\n",
       "      <th>genre</th>\n",
       "    </tr>\n",
       "  </thead>\n",
       "  <tbody>\n",
       "    <tr>\n",
       "      <th>314</th>\n",
       "      <td>Puppet Master II</td>\n",
       "      <td>1990h</td>\n",
       "      <td>5.5</td>\n",
       "      <td></td>\n",
       "    </tr>\n",
       "  </tbody>\n",
       "</table>\n",
       "</div>"
      ],
      "text/plain": [
       "                 title   year   imdb genre\n",
       "314  Puppet Master II   1990h    5.5      "
      ]
     },
     "execution_count": 54,
     "metadata": {},
     "output_type": "execute_result"
    }
   ],
   "source": [
    "movie_rating.loc[movie_ratings['year'] == '1990h']"
   ]
  },
  {
   "cell_type": "code",
   "execution_count": 55,
   "metadata": {
    "scrolled": true
   },
   "outputs": [],
   "source": [
    "campy_movies = movie_ratings[movie_ratings.year != 'Short']"
   ]
  },
  {
   "cell_type": "code",
   "execution_count": 56,
   "metadata": {
    "scrolled": false
   },
   "outputs": [
    {
     "data": {
      "text/html": [
       "<div>\n",
       "<style scoped>\n",
       "    .dataframe tbody tr th:only-of-type {\n",
       "        vertical-align: middle;\n",
       "    }\n",
       "\n",
       "    .dataframe tbody tr th {\n",
       "        vertical-align: top;\n",
       "    }\n",
       "\n",
       "    .dataframe thead th {\n",
       "        text-align: right;\n",
       "    }\n",
       "</style>\n",
       "<table border=\"1\" class=\"dataframe\">\n",
       "  <thead>\n",
       "    <tr style=\"text-align: right;\">\n",
       "      <th></th>\n",
       "      <th>title</th>\n",
       "      <th>year</th>\n",
       "      <th>imdb</th>\n",
       "      <th>genre</th>\n",
       "    </tr>\n",
       "  </thead>\n",
       "  <tbody>\n",
       "    <tr>\n",
       "      <th>0</th>\n",
       "      <td>Half Human: The Story of the Abominable Snowman</td>\n",
       "      <td>1958</td>\n",
       "      <td>2.9</td>\n",
       "      <td>Creatures, Thriller</td>\n",
       "    </tr>\n",
       "    <tr>\n",
       "      <th>1</th>\n",
       "      <td>Plan 9 from Outer Space</td>\n",
       "      <td>1959</td>\n",
       "      <td>4.0</td>\n",
       "      <td>Aliens, Classic, Classic Sci-Fi, Featured Clas...</td>\n",
       "    </tr>\n",
       "    <tr>\n",
       "      <th>2</th>\n",
       "      <td>The Phantom of the Operetta</td>\n",
       "      <td>1960</td>\n",
       "      <td>6.8</td>\n",
       "      <td>Comedy</td>\n",
       "    </tr>\n",
       "    <tr>\n",
       "      <th>3</th>\n",
       "      <td>Mr. Sardonicus</td>\n",
       "      <td>1961</td>\n",
       "      <td>6.7</td>\n",
       "      <td>Comedy, Mystery</td>\n",
       "    </tr>\n",
       "    <tr>\n",
       "      <th>4</th>\n",
       "      <td>House on Bare Mountain</td>\n",
       "      <td>1962</td>\n",
       "      <td>4.1</td>\n",
       "      <td>Comedy</td>\n",
       "    </tr>\n",
       "    <tr>\n",
       "      <th>5</th>\n",
       "      <td>House of the Frights</td>\n",
       "      <td>1963</td>\n",
       "      <td>5.0</td>\n",
       "      <td>Comedy</td>\n",
       "    </tr>\n",
       "    <tr>\n",
       "      <th>6</th>\n",
       "      <td>The Old Dark House</td>\n",
       "      <td>1963</td>\n",
       "      <td>5.4</td>\n",
       "      <td>Comedy</td>\n",
       "    </tr>\n",
       "    <tr>\n",
       "      <th>7</th>\n",
       "      <td>The Incredibly Strange Creatures Who Stopped L...</td>\n",
       "      <td>1964</td>\n",
       "      <td>2.2</td>\n",
       "      <td>Comedy, Zombies</td>\n",
       "    </tr>\n",
       "    <tr>\n",
       "      <th>8</th>\n",
       "      <td>The Flesh Eaters</td>\n",
       "      <td>1964</td>\n",
       "      <td>6.0</td>\n",
       "      <td>Creatures</td>\n",
       "    </tr>\n",
       "    <tr>\n",
       "      <th>9</th>\n",
       "      <td>The Wrestling Women vs. the Aztec Mummy</td>\n",
       "      <td>1964</td>\n",
       "      <td>3.9</td>\n",
       "      <td>Comedy</td>\n",
       "    </tr>\n",
       "    <tr>\n",
       "      <th>10</th>\n",
       "      <td>The Beach Girls and the Monster</td>\n",
       "      <td>1965</td>\n",
       "      <td>2.9</td>\n",
       "      <td>Comedy</td>\n",
       "    </tr>\n",
       "    <tr>\n",
       "      <th>11</th>\n",
       "      <td>The Monsters Crash the Pajama Party</td>\n",
       "      <td>1965</td>\n",
       "      <td>5.1</td>\n",
       "      <td>Comedy</td>\n",
       "    </tr>\n",
       "    <tr>\n",
       "      <th>12</th>\n",
       "      <td>Psycho a Go-Go</td>\n",
       "      <td>1965</td>\n",
       "      <td>2.9</td>\n",
       "      <td>Comedy, Mystery</td>\n",
       "    </tr>\n",
       "    <tr>\n",
       "      <th>13</th>\n",
       "      <td>Monster a-Go Go</td>\n",
       "      <td>1965</td>\n",
       "      <td>2.1</td>\n",
       "      <td>Creatures</td>\n",
       "    </tr>\n",
       "    <tr>\n",
       "      <th>14</th>\n",
       "      <td>Frankenstein Meets the Spacemonster</td>\n",
       "      <td>1965</td>\n",
       "      <td>3.5</td>\n",
       "      <td>Supernatural</td>\n",
       "    </tr>\n",
       "    <tr>\n",
       "      <th>15</th>\n",
       "      <td>Zontar: The Thing from Venus</td>\n",
       "      <td>1966</td>\n",
       "      <td>3.0</td>\n",
       "      <td>Aliens</td>\n",
       "    </tr>\n",
       "    <tr>\n",
       "      <th>16</th>\n",
       "      <td>The Plague of the Zombies</td>\n",
       "      <td>1966</td>\n",
       "      <td>6.7</td>\n",
       "      <td>Zombies</td>\n",
       "    </tr>\n",
       "    <tr>\n",
       "      <th>17</th>\n",
       "      <td>Munster, Go Home!</td>\n",
       "      <td>1966</td>\n",
       "      <td>6.5</td>\n",
       "      <td>Comedy, Creatures, Vampires</td>\n",
       "    </tr>\n",
       "    <tr>\n",
       "      <th>18</th>\n",
       "      <td>Let's Kill Uncle</td>\n",
       "      <td>1966</td>\n",
       "      <td>6.0</td>\n",
       "      <td>Mystery</td>\n",
       "    </tr>\n",
       "    <tr>\n",
       "      <th>19</th>\n",
       "      <td>The Fearless Vampire Killers</td>\n",
       "      <td>1967</td>\n",
       "      <td>7.2</td>\n",
       "      <td>Vampires</td>\n",
       "    </tr>\n",
       "  </tbody>\n",
       "</table>\n",
       "</div>"
      ],
      "text/plain": [
       "                                                title  year   imdb  \\\n",
       "0     Half Human: The Story of the Abominable Snowman  1958    2.9   \n",
       "1                             Plan 9 from Outer Space  1959    4.0   \n",
       "2                         The Phantom of the Operetta  1960    6.8   \n",
       "3                                      Mr. Sardonicus  1961    6.7   \n",
       "4                             House on Bare Mountain   1962    4.1   \n",
       "5                                House of the Frights  1963    5.0   \n",
       "6                                  The Old Dark House  1963    5.4   \n",
       "7   The Incredibly Strange Creatures Who Stopped L...  1964    2.2   \n",
       "8                                    The Flesh Eaters  1964    6.0   \n",
       "9             The Wrestling Women vs. the Aztec Mummy  1964    3.9   \n",
       "10                    The Beach Girls and the Monster  1965    2.9   \n",
       "11                The Monsters Crash the Pajama Party  1965    5.1   \n",
       "12                                     Psycho a Go-Go  1965    2.9   \n",
       "13                                    Monster a-Go Go  1965    2.1   \n",
       "14                Frankenstein Meets the Spacemonster  1965    3.5   \n",
       "15                       Zontar: The Thing from Venus  1966    3.0   \n",
       "16                          The Plague of the Zombies  1966    6.7   \n",
       "17                                  Munster, Go Home!  1966    6.5   \n",
       "18                                   Let's Kill Uncle  1966    6.0   \n",
       "19                       The Fearless Vampire Killers  1967    7.2   \n",
       "\n",
       "                                                genre  \n",
       "0                                Creatures, Thriller   \n",
       "1   Aliens, Classic, Classic Sci-Fi, Featured Clas...  \n",
       "2                                             Comedy   \n",
       "3                                    Comedy, Mystery   \n",
       "4                                             Comedy   \n",
       "5                                             Comedy   \n",
       "6                                             Comedy   \n",
       "7                                    Comedy, Zombies   \n",
       "8                                          Creatures   \n",
       "9                                             Comedy   \n",
       "10                                            Comedy   \n",
       "11                                            Comedy   \n",
       "12                                   Comedy, Mystery   \n",
       "13                                         Creatures   \n",
       "14                                      Supernatural   \n",
       "15                                            Aliens   \n",
       "16                                           Zombies   \n",
       "17                       Comedy, Creatures, Vampires   \n",
       "18                                           Mystery   \n",
       "19                                          Vampires   "
      ]
     },
     "execution_count": 56,
     "metadata": {},
     "output_type": "execute_result"
    }
   ],
   "source": [
    "campy_movies.head(20)"
   ]
  },
  {
   "cell_type": "markdown",
   "metadata": {},
   "source": [
    "Got rid of '1990h'"
   ]
  },
  {
   "cell_type": "code",
   "execution_count": 57,
   "metadata": {},
   "outputs": [
    {
     "data": {
      "text/plain": [
       "'1990'"
      ]
     },
     "execution_count": 57,
     "metadata": {},
     "output_type": "execute_result"
    }
   ],
   "source": [
    "campy_movies.loc[314, 'year'].replace('h', '')"
   ]
  },
  {
   "cell_type": "code",
   "execution_count": 58,
   "metadata": {},
   "outputs": [],
   "source": [
    "campy_movies.loc[314, 'year'] = campy_movies.loc[314, 'year'].replace('h', '')"
   ]
  },
  {
   "cell_type": "code",
   "execution_count": 59,
   "metadata": {},
   "outputs": [
    {
     "data": {
      "text/plain": [
       "array(['1958', '1959', '1960', '1961', '1962', '1963', '1964', '1965',\n",
       "       '1966', '1967', '1968', '1969', '1970', '1971', '1972', '1973',\n",
       "       '1974', '1975', '1976', '1977', '1978', '1979', '1980', '1981',\n",
       "       '1982', '1983', '1984', '1985', '1986', '1987', '1988', '1989',\n",
       "       '1990', '1991', '1992', '1993', '1994', '1995', '1996', '1997',\n",
       "       '1998', '1999', '2000', '2001', '2002', '2003', '2005', '2006',\n",
       "       '2007', '2008', '2009', '2010', '2011', '2012', '2013', '2014',\n",
       "       '2015', '2016', '2017', '2018', '2019'], dtype=object)"
      ]
     },
     "execution_count": 59,
     "metadata": {},
     "output_type": "execute_result"
    }
   ],
   "source": [
    "campy_movies['year'].unique()"
   ]
  },
  {
   "cell_type": "code",
   "execution_count": 60,
   "metadata": {},
   "outputs": [],
   "source": [
    "campy_movies.loc[:, 'year'] = campy_movies['year'].astype(int)"
   ]
  },
  {
   "cell_type": "code",
   "execution_count": 61,
   "metadata": {
    "scrolled": false
   },
   "outputs": [
    {
     "data": {
      "text/html": [
       "<div>\n",
       "<style scoped>\n",
       "    .dataframe tbody tr th:only-of-type {\n",
       "        vertical-align: middle;\n",
       "    }\n",
       "\n",
       "    .dataframe tbody tr th {\n",
       "        vertical-align: top;\n",
       "    }\n",
       "\n",
       "    .dataframe thead th {\n",
       "        text-align: right;\n",
       "    }\n",
       "</style>\n",
       "<table border=\"1\" class=\"dataframe\">\n",
       "  <thead>\n",
       "    <tr style=\"text-align: right;\">\n",
       "      <th></th>\n",
       "      <th>title</th>\n",
       "      <th>year</th>\n",
       "      <th>imdb</th>\n",
       "      <th>genre</th>\n",
       "    </tr>\n",
       "  </thead>\n",
       "  <tbody>\n",
       "    <tr>\n",
       "      <th>0</th>\n",
       "      <td>Half Human: The Story of the Abominable Snowman</td>\n",
       "      <td>1958</td>\n",
       "      <td>2.9</td>\n",
       "      <td>Creatures, Thriller</td>\n",
       "    </tr>\n",
       "    <tr>\n",
       "      <th>1</th>\n",
       "      <td>Plan 9 from Outer Space</td>\n",
       "      <td>1959</td>\n",
       "      <td>4.0</td>\n",
       "      <td>Aliens, Classic, Classic Sci-Fi, Featured Clas...</td>\n",
       "    </tr>\n",
       "    <tr>\n",
       "      <th>2</th>\n",
       "      <td>The Phantom of the Operetta</td>\n",
       "      <td>1960</td>\n",
       "      <td>6.8</td>\n",
       "      <td>Comedy</td>\n",
       "    </tr>\n",
       "    <tr>\n",
       "      <th>3</th>\n",
       "      <td>Mr. Sardonicus</td>\n",
       "      <td>1961</td>\n",
       "      <td>6.7</td>\n",
       "      <td>Comedy, Mystery</td>\n",
       "    </tr>\n",
       "    <tr>\n",
       "      <th>4</th>\n",
       "      <td>House on Bare Mountain</td>\n",
       "      <td>1962</td>\n",
       "      <td>4.1</td>\n",
       "      <td>Comedy</td>\n",
       "    </tr>\n",
       "  </tbody>\n",
       "</table>\n",
       "</div>"
      ],
      "text/plain": [
       "                                             title  year   imdb  \\\n",
       "0  Half Human: The Story of the Abominable Snowman  1958    2.9   \n",
       "1                          Plan 9 from Outer Space  1959    4.0   \n",
       "2                      The Phantom of the Operetta  1960    6.8   \n",
       "3                                   Mr. Sardonicus  1961    6.7   \n",
       "4                          House on Bare Mountain   1962    4.1   \n",
       "\n",
       "                                               genre  \n",
       "0                               Creatures, Thriller   \n",
       "1  Aliens, Classic, Classic Sci-Fi, Featured Clas...  \n",
       "2                                            Comedy   \n",
       "3                                   Comedy, Mystery   \n",
       "4                                            Comedy   "
      ]
     },
     "execution_count": 61,
     "metadata": {},
     "output_type": "execute_result"
    }
   ],
   "source": [
    "campy_movies.head()"
   ]
  },
  {
   "cell_type": "markdown",
   "metadata": {},
   "source": [
    "Replaced N/A with 0 in order to better deal with data. Changed IMDB Rating dat type to float, to better manmipulate data. "
   ]
  },
  {
   "cell_type": "code",
   "execution_count": 62,
   "metadata": {},
   "outputs": [],
   "source": [
    "campy_movies.loc[:, 'imdb'] = campy_movies.loc[:, 'imdb'].replace('  N/A', '0')"
   ]
  },
  {
   "cell_type": "code",
   "execution_count": 63,
   "metadata": {},
   "outputs": [],
   "source": [
    "campy_movies.loc[:, 'imdb'] = campy_movies.loc[:, 'imdb'].str.strip()"
   ]
  },
  {
   "cell_type": "code",
   "execution_count": 64,
   "metadata": {},
   "outputs": [
    {
     "data": {
      "text/html": [
       "<div>\n",
       "<style scoped>\n",
       "    .dataframe tbody tr th:only-of-type {\n",
       "        vertical-align: middle;\n",
       "    }\n",
       "\n",
       "    .dataframe tbody tr th {\n",
       "        vertical-align: top;\n",
       "    }\n",
       "\n",
       "    .dataframe thead th {\n",
       "        text-align: right;\n",
       "    }\n",
       "</style>\n",
       "<table border=\"1\" class=\"dataframe\">\n",
       "  <thead>\n",
       "    <tr style=\"text-align: right;\">\n",
       "      <th></th>\n",
       "      <th>title</th>\n",
       "      <th>year</th>\n",
       "      <th>imdb</th>\n",
       "      <th>genre</th>\n",
       "    </tr>\n",
       "  </thead>\n",
       "  <tbody>\n",
       "    <tr>\n",
       "      <th>0</th>\n",
       "      <td>Half Human: The Story of the Abominable Snowman</td>\n",
       "      <td>1958</td>\n",
       "      <td>2.9</td>\n",
       "      <td>Creatures, Thriller</td>\n",
       "    </tr>\n",
       "    <tr>\n",
       "      <th>1</th>\n",
       "      <td>Plan 9 from Outer Space</td>\n",
       "      <td>1959</td>\n",
       "      <td>4.0</td>\n",
       "      <td>Aliens, Classic, Classic Sci-Fi, Featured Clas...</td>\n",
       "    </tr>\n",
       "    <tr>\n",
       "      <th>2</th>\n",
       "      <td>The Phantom of the Operetta</td>\n",
       "      <td>1960</td>\n",
       "      <td>6.8</td>\n",
       "      <td>Comedy</td>\n",
       "    </tr>\n",
       "    <tr>\n",
       "      <th>3</th>\n",
       "      <td>Mr. Sardonicus</td>\n",
       "      <td>1961</td>\n",
       "      <td>6.7</td>\n",
       "      <td>Comedy, Mystery</td>\n",
       "    </tr>\n",
       "    <tr>\n",
       "      <th>4</th>\n",
       "      <td>House on Bare Mountain</td>\n",
       "      <td>1962</td>\n",
       "      <td>4.1</td>\n",
       "      <td>Comedy</td>\n",
       "    </tr>\n",
       "  </tbody>\n",
       "</table>\n",
       "</div>"
      ],
      "text/plain": [
       "                                             title  year imdb  \\\n",
       "0  Half Human: The Story of the Abominable Snowman  1958  2.9   \n",
       "1                          Plan 9 from Outer Space  1959  4.0   \n",
       "2                      The Phantom of the Operetta  1960  6.8   \n",
       "3                                   Mr. Sardonicus  1961  6.7   \n",
       "4                          House on Bare Mountain   1962  4.1   \n",
       "\n",
       "                                               genre  \n",
       "0                               Creatures, Thriller   \n",
       "1  Aliens, Classic, Classic Sci-Fi, Featured Clas...  \n",
       "2                                            Comedy   \n",
       "3                                   Comedy, Mystery   \n",
       "4                                            Comedy   "
      ]
     },
     "execution_count": 64,
     "metadata": {},
     "output_type": "execute_result"
    }
   ],
   "source": [
    "campy_movies.head()"
   ]
  },
  {
   "cell_type": "code",
   "execution_count": 65,
   "metadata": {},
   "outputs": [],
   "source": [
    "campy_movies.loc[:, 'imdb'] = campy_movies['imdb'].astype(float)"
   ]
  },
  {
   "cell_type": "code",
   "execution_count": 66,
   "metadata": {},
   "outputs": [
    {
     "data": {
      "text/plain": [
       "0      2.9\n",
       "1      4.0\n",
       "2      6.8\n",
       "Name: imdb, dtype: object"
      ]
     },
     "execution_count": 66,
     "metadata": {},
     "output_type": "execute_result"
    }
   ],
   "source": [
    "movie_ratings['imdb'].head(3)"
   ]
  },
  {
   "cell_type": "code",
   "execution_count": 67,
   "metadata": {
    "scrolled": true
   },
   "outputs": [
    {
     "data": {
      "text/html": [
       "<div>\n",
       "<style scoped>\n",
       "    .dataframe tbody tr th:only-of-type {\n",
       "        vertical-align: middle;\n",
       "    }\n",
       "\n",
       "    .dataframe tbody tr th {\n",
       "        vertical-align: top;\n",
       "    }\n",
       "\n",
       "    .dataframe thead th {\n",
       "        text-align: right;\n",
       "    }\n",
       "</style>\n",
       "<table border=\"1\" class=\"dataframe\">\n",
       "  <thead>\n",
       "    <tr style=\"text-align: right;\">\n",
       "      <th></th>\n",
       "      <th>imdb</th>\n",
       "    </tr>\n",
       "  </thead>\n",
       "  <tbody>\n",
       "    <tr>\n",
       "      <th>min</th>\n",
       "      <td>0.0</td>\n",
       "    </tr>\n",
       "    <tr>\n",
       "      <th>max</th>\n",
       "      <td>8.1</td>\n",
       "    </tr>\n",
       "  </tbody>\n",
       "</table>\n",
       "</div>"
      ],
      "text/plain": [
       "     imdb\n",
       "min   0.0\n",
       "max   8.1"
      ]
     },
     "execution_count": 67,
     "metadata": {},
     "output_type": "execute_result"
    }
   ],
   "source": [
    "campy_movies.describe().loc[['min', 'max'], ['imdb']]"
   ]
  },
  {
   "cell_type": "code",
   "execution_count": 68,
   "metadata": {
    "scrolled": true
   },
   "outputs": [
    {
     "data": {
      "text/html": [
       "<div>\n",
       "<style scoped>\n",
       "    .dataframe tbody tr th:only-of-type {\n",
       "        vertical-align: middle;\n",
       "    }\n",
       "\n",
       "    .dataframe tbody tr th {\n",
       "        vertical-align: top;\n",
       "    }\n",
       "\n",
       "    .dataframe thead th {\n",
       "        text-align: right;\n",
       "    }\n",
       "</style>\n",
       "<table border=\"1\" class=\"dataframe\">\n",
       "  <thead>\n",
       "    <tr style=\"text-align: right;\">\n",
       "      <th></th>\n",
       "      <th>title</th>\n",
       "      <th>year</th>\n",
       "      <th>imdb</th>\n",
       "      <th>genre</th>\n",
       "      <th>n_imdb</th>\n",
       "    </tr>\n",
       "  </thead>\n",
       "  <tbody>\n",
       "    <tr>\n",
       "      <th>0</th>\n",
       "      <td>Half Human: The Story of the Abominable Snowman</td>\n",
       "      <td>1958</td>\n",
       "      <td>2.9</td>\n",
       "      <td>Creatures, Thriller</td>\n",
       "      <td>29.0</td>\n",
       "    </tr>\n",
       "    <tr>\n",
       "      <th>1</th>\n",
       "      <td>Plan 9 from Outer Space</td>\n",
       "      <td>1959</td>\n",
       "      <td>4.0</td>\n",
       "      <td>Aliens, Classic, Classic Sci-Fi, Featured Clas...</td>\n",
       "      <td>40.0</td>\n",
       "    </tr>\n",
       "    <tr>\n",
       "      <th>2</th>\n",
       "      <td>The Phantom of the Operetta</td>\n",
       "      <td>1960</td>\n",
       "      <td>6.8</td>\n",
       "      <td>Comedy</td>\n",
       "      <td>68.0</td>\n",
       "    </tr>\n",
       "  </tbody>\n",
       "</table>\n",
       "</div>"
      ],
      "text/plain": [
       "                                             title  year  imdb  \\\n",
       "0  Half Human: The Story of the Abominable Snowman  1958   2.9   \n",
       "1                          Plan 9 from Outer Space  1959   4.0   \n",
       "2                      The Phantom of the Operetta  1960   6.8   \n",
       "\n",
       "                                               genre  n_imdb  \n",
       "0                               Creatures, Thriller     29.0  \n",
       "1  Aliens, Classic, Classic Sci-Fi, Featured Clas...    40.0  \n",
       "2                                            Comedy     68.0  "
      ]
     },
     "execution_count": 68,
     "metadata": {},
     "output_type": "execute_result"
    }
   ],
   "source": [
    "campy_movies['n_imdb'] = campy_movies['imdb'] * 10\n",
    "campy_movies.head(3)"
   ]
  },
  {
   "cell_type": "markdown",
   "metadata": {},
   "source": [
    "Saved data stored to Campy Movies."
   ]
  },
  {
   "cell_type": "code",
   "execution_count": 69,
   "metadata": {},
   "outputs": [],
   "source": [
    "campy_movies.to_csv('campy_movies.csv')"
   ]
  },
  {
   "cell_type": "code",
   "execution_count": null,
   "metadata": {},
   "outputs": [],
   "source": []
  },
  {
   "cell_type": "code",
   "execution_count": null,
   "metadata": {},
   "outputs": [],
   "source": []
  },
  {
   "cell_type": "code",
   "execution_count": null,
   "metadata": {},
   "outputs": [],
   "source": []
  },
  {
   "cell_type": "code",
   "execution_count": null,
   "metadata": {},
   "outputs": [],
   "source": []
  },
  {
   "cell_type": "code",
   "execution_count": null,
   "metadata": {},
   "outputs": [],
   "source": []
  },
  {
   "cell_type": "code",
   "execution_count": null,
   "metadata": {},
   "outputs": [],
   "source": []
  },
  {
   "cell_type": "code",
   "execution_count": null,
   "metadata": {},
   "outputs": [],
   "source": []
  },
  {
   "cell_type": "code",
   "execution_count": null,
   "metadata": {},
   "outputs": [],
   "source": []
  }
 ],
 "metadata": {
  "kernelspec": {
   "display_name": "Python 3",
   "language": "python",
   "name": "python3"
  },
  "language_info": {
   "codemirror_mode": {
    "name": "ipython",
    "version": 3
   },
   "file_extension": ".py",
   "mimetype": "text/x-python",
   "name": "python",
   "nbconvert_exporter": "python",
   "pygments_lexer": "ipython3",
   "version": "3.7.3"
  }
 },
 "nbformat": 4,
 "nbformat_minor": 2
}
